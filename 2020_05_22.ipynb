{
  "nbformat": 4,
  "nbformat_minor": 0,
  "metadata": {
    "colab": {
      "name": "2020-05-22.ipynb",
      "provenance": []
    },
    "kernelspec": {
      "name": "python3",
      "display_name": "Python 3"
    }
  },
  "cells": [
    {
      "cell_type": "code",
      "metadata": {
        "id": "r6IkoGFQdU4m",
        "colab_type": "code",
        "colab": {
          "base_uri": "https://localhost:8080/",
          "height": 85
        },
        "outputId": "109a8a21-35f7-432e-d07c-4e17d044c22a"
      },
      "source": [
        "avengers = [\"The Avengers\", \"Avengers: Age of Ultron\", \"Avengers: Infinity War\", \"Avengers: Endgame\"]\n",
        "for i, val in enumerate(avengers):\n",
        "    print(\"{}: {}\".format(i, val))\n"
      ],
      "execution_count": 1,
      "outputs": [
        {
          "output_type": "stream",
          "text": [
            "0: The Avengers\n",
            "1: Avengers: Age of Ultron\n",
            "2: Avengers: Infinity War\n",
            "3: Avengers: Endgame\n"
          ],
          "name": "stdout"
        }
      ]
    },
    {
      "cell_type": "code",
      "metadata": {
        "id": "PUL9enVQdvje",
        "colab_type": "code",
        "colab": {
          "base_uri": "https://localhost:8080/",
          "height": 85
        },
        "outputId": "2c752ac0-df1b-4c3d-d321-a97bdee3d0a3"
      },
      "source": [
        "avengers = [\"The Avengers\", \"Avengers: Age of Ultron\", \"Avengers: Infinity War\", \"Avengers: Endgame\"] #隨堂練習\n",
        "for i, val in enumerate(avengers):\n",
        "    print(\"第 {} 部上映的復仇者聯盟是：{}\".format(i+1, val))\n"
      ],
      "execution_count": 2,
      "outputs": [
        {
          "output_type": "stream",
          "text": [
            "第 1 部上映的復仇者聯盟是：The Avengers\n",
            "第 2 部上映的復仇者聯盟是：Avengers: Age of Ultron\n",
            "第 3 部上映的復仇者聯盟是：Avengers: Infinity War\n",
            "第 4 部上映的復仇者聯盟是：Avengers: Endgame\n"
          ],
          "name": "stdout"
        }
      ]
    }
  ]
}