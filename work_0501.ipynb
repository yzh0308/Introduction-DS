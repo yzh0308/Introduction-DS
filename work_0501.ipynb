{
  "nbformat": 4,
  "nbformat_minor": 0,
  "metadata": {
    "colab": {
      "name": "work-0501.ipynb",
      "provenance": []
    },
    "kernelspec": {
      "name": "python3",
      "display_name": "Python 3"
    }
  },
  "cells": [
    {
      "cell_type": "code",
      "metadata": {
        "colab_type": "code",
        "outputId": "8e6f9b93-ac07-4713-b1ca-78cdf88a7b38",
        "id": "wvfoTyHvGN5S",
        "colab": {
          "base_uri": "https://localhost:8080/",
          "height": 102
        }
      },
      "source": [
        "x = int(input(\"請輸入起始的正整數：\"))# start  #隋堂作業\n",
        "y = int(input(\"請輸入終止的正整數：\"))# stop\n",
        "i = x #start\n",
        "while i<= y: #stop\n",
        "      #task\n",
        "      if i %2 ==1:\n",
        "          print(i)\n",
        "      i += 1 #step"
      ],
      "execution_count": 0,
      "outputs": [
        {
          "output_type": "stream",
          "text": [
            "請輸入起始的正整數：5\n",
            "請輸入終止的正整數：10\n",
            "5\n",
            "7\n",
            "9\n"
          ],
          "name": "stdout"
        }
      ]
    },
    {
      "cell_type": "code",
      "metadata": {
        "id": "bwlx9qm9CWJe",
        "colab_type": "code",
        "outputId": "b602de10-d5b2-4eff-f619-0ea194006ca9",
        "colab": {
          "base_uri": "https://localhost:8080/",
          "height": 85
        }
      },
      "source": [
        "x = int(input(\"請輸入起始的正整數：\"))# start  #隋堂作業\n",
        "y = int(input(\"請輸入終止的正整數：\"))# stop\n",
        "odd_counter = 0 #歸零\n",
        "i = x #start\n",
        "while i<= y: #stop\n",
        "      #task\n",
        "      if i %2 ==1:\n",
        "          # odd_counter =  odd_counter +1 # = NOT =\n",
        "          odd_counter += 1 #記數累計\n",
        "      #print( odd_counter )    \n",
        "      i += 1 #step\n",
        "print(\"======\")      \n",
        "print( odd_counter )"
      ],
      "execution_count": 0,
      "outputs": [
        {
          "output_type": "stream",
          "text": [
            "請輸入起始的正整數：5\n",
            "請輸入終止的正整數：10\n",
            "======\n",
            "3\n"
          ],
          "name": "stdout"
        }
      ]
    },
    {
      "cell_type": "code",
      "metadata": {
        "id": "VtfRngwKIThp",
        "colab_type": "code",
        "outputId": "878313b4-94cd-44b5-841d-c346d99032af",
        "colab": {
          "base_uri": "https://localhost:8080/",
          "height": 85
        }
      },
      "source": [
        "x = int(input(\"請輸入起始的整數:\")) #隋堂作業\n",
        "y = int(input(\"請輸入終止的整數:\"))\n",
        "odd_summation = 0 # 歸零\n",
        "i = x # start\n",
        "while i <= y: # stop\n",
        "    # task\n",
        "    if i % 2 == 1:\n",
        "        odd_summation = odd_summation + i # 數值累加\n",
        "    i += 1 # step\n",
        "print(\"======\")\n",
        "print(odd_summation)"
      ],
      "execution_count": 0,
      "outputs": [
        {
          "output_type": "stream",
          "text": [
            "請輸入起始的整數:5\n",
            "請輸入終止的整數:10\n",
            "======\n",
            "21\n"
          ],
          "name": "stdout"
        }
      ]
    }
  ]
}