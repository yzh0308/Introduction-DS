{
  "nbformat": 4,
  "nbformat_minor": 0,
  "metadata": {
    "colab": {
      "name": "2020-04-10.ipynb",
      "provenance": []
    },
    "kernelspec": {
      "name": "python3",
      "display_name": "Python 3"
    }
  },
  "cells": [
    {
      "cell_type": "code",
      "metadata": {
        "id": "DkbpNNDIcSdL",
        "colab_type": "code",
        "outputId": "25905abd-5d1c-4f6b-f93e-7a5ea75cab5a",
        "colab": {
          "base_uri": "https://localhost:8080/",
          "height": 51
        }
      },
      "source": [
        "last_id_digit = input('請輸入身分證字號的尾數:') #隨堂作業\n",
        "last_id_digit = int(last_id_digit)\n",
        "remainder = last_id_digit % 2\n",
        "if remainder == 0:\n",
        "    ans = \"偶數\"\n",
        "else:\n",
        "    ans = \"奇數\"\n",
        "print(\"身分證字號尾數除以2的餘數為:{}，因此為{}\".format(remainder, ans))"
      ],
      "execution_count": 0,
      "outputs": [
        {
          "output_type": "stream",
          "text": [
            "請輸入身分證字號的尾數:5\n",
            "身分證字號尾數除以2的餘數為:1，因此為奇數\n"
          ],
          "name": "stdout"
        }
      ]
    }
  ]
}