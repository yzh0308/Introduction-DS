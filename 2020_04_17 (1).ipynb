{
  "nbformat": 4,
  "nbformat_minor": 0,
  "metadata": {
    "colab": {
      "name": "2020-04-17.ipynb",
      "provenance": []
    },
    "kernelspec": {
      "name": "python3",
      "display_name": "Python 3"
    }
  },
  "cells": [
    {
      "cell_type": "code",
      "metadata": {
        "id": "d4q0i4wSfTDW",
        "colab_type": "code",
        "colab": {
          "base_uri": "https://localhost:8080/",
          "height": 102
        },
        "outputId": "6155f392-4130-41a9-81cb-3228231ae4c5"
      },
      "source": [
        "monthly_income = input(\"請輸入月薪：\") #隨堂練習\n",
        "saving_account = input(\"請輸入存款：\")\n",
        "monthly_income = int(monthly_income)\n",
        "saving_account = int(saving_account)\n",
        "print(type(monthly_income))\n",
        "print(type(saving_account))\n",
        "ans = \"\"\n",
        "# 條件判斷(begin)\n",
        "if monthly_income > 40000 or saving_account > 500000:\n",
        "    ans = \"發信用卡\"\n",
        "# 條件判斷(end)\n",
        "print(ans)"
      ],
      "execution_count": 2,
      "outputs": [
        {
          "output_type": "stream",
          "text": [
            "請輸入月薪：40001\n",
            "請輸入存款：499999\n",
            "<class 'int'>\n",
            "<class 'int'>\n",
            "發信用卡\n"
          ],
          "name": "stdout"
        }
      ]
    }
  ]
}