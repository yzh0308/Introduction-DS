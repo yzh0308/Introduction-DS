{
  "nbformat": 4,
  "nbformat_minor": 0,
  "metadata": {
    "colab": {
      "name": "2020-03-27.ipynb",
      "provenance": []
    },
    "kernelspec": {
      "name": "python3",
      "display_name": "Python 3"
    }
  },
  "cells": [
    {
      "cell_type": "code",
      "metadata": {
        "id": "I6s68IUMUbjI",
        "colab_type": "code",
        "colab": {
          "base_uri": "https://localhost:8080/",
          "height": 51
        },
        "outputId": "36c2b96c-dcd4-465a-d3ca-0db239dbb5d0"
      },
      "source": [
        "tempc = input(\"請輸入現在的攝氏氣溫：\") #1\n",
        "tempc = int(tempc)\n",
        "tempf = tempc*9/5 + 32\n",
        "print(\"攝氏{}度，華氏{}度\".format (tempc, tempf))\n"
      ],
      "execution_count": 5,
      "outputs": [
        {
          "output_type": "stream",
          "text": [
            "請輸入現在的攝氏氣溫：30\n",
            "攝氏30度，華氏86.0度\n"
          ],
          "name": "stdout"
        }
      ]
    },
    {
      "cell_type": "code",
      "metadata": {
        "id": "c-C0mOhTTmj8",
        "colab_type": "code",
        "colab": {
          "base_uri": "https://localhost:8080/",
          "height": 34
        },
        "outputId": "8b8f7049-3079-4e7f-9201-dfbc141747ee"
      },
      "source": [
        "shaq_height = 216 #2\n",
        "shaq_weight = 147\n",
        "shaq_bmi = shaq_weight/(shaq_height/100)**2 # 將身高轉換為以公尺為單位\n",
        "\n",
        "print(shaq_bmi)"
      ],
      "execution_count": 1,
      "outputs": [
        {
          "output_type": "stream",
          "text": [
            "31.507201646090532\n"
          ],
          "name": "stdout"
        }
      ]
    },
    {
      "cell_type": "code",
      "metadata": {
        "id": "TB-RbKapXQrD",
        "colab_type": "code",
        "colab": {
          "base_uri": "https://localhost:8080/",
          "height": 34
        },
        "outputId": "19dc95d0-5929-4c4b-a69c-f23d7fbf9ac6"
      },
      "source": [
        "ross_said = \"Let's put aside the fact that you \\\"accidentally\\\" pick up my grandmother's ring.\" #3\n",
        "print(ross_said)"
      ],
      "execution_count": 6,
      "outputs": [
        {
          "output_type": "stream",
          "text": [
            "Let's put aside the fact that you \"accidentally\" pick up my grandmother's ring.\n"
          ],
          "name": "stdout"
        }
      ]
    },
    {
      "cell_type": "code",
      "metadata": {
        "id": "kVHQZnTOXYFb",
        "colab_type": "code",
        "colab": {
          "base_uri": "https://localhost:8080/",
          "height": 68
        },
        "outputId": "0c3cced2-5ce9-4de3-85a2-e974cf6b20b6"
      },
      "source": [
        "city = input(\"請輸入您所在的城市：\") #4\n",
        "weather = input(\"請輸入現在的天氣：\")\n",
        "print(\"我在{}，天氣{}\".format(city, weather))"
      ],
      "execution_count": 9,
      "outputs": [
        {
          "output_type": "stream",
          "text": [
            "請輸入您所在的城市：台北\n",
            "請輸入現在的天氣：陰天\n",
            "我在台北，天氣陰天\n"
          ],
          "name": "stdout"
        }
      ]
    },
    {
      "cell_type": "code",
      "metadata": {
        "id": "Vy5KdchhX-Z6",
        "colab_type": "code",
        "colab": {
          "base_uri": "https://localhost:8080/",
          "height": 85
        },
        "outputId": "0058df86-a0d9-4bbb-a372-9a0acb51507a"
      },
      "source": [
        "player_height = float(input(\"請輸入球員身高(公尺):\"))\n",
        "player_weight = float(input(\"請輸入球員體重(公斤):\"))\n",
        "player_bmi = player_weight / player_height**2\n",
        "bmi_label = None\n",
        "if player_bmi > 30:\n",
        "    bmi_label = 'Obese'\n",
        "elif player_bmi > 25:\n",
        "    bmi_label = 'Overweight'\n",
        "elif player_bmi > 18.5:\n",
        "    bmi_label = 'Normal weight'\n",
        "else:\n",
        "    bmi_label = 'Underweight'\n",
        "print(player_bmi)\n",
        "print(bmi_label)"
      ],
      "execution_count": 11,
      "outputs": [
        {
          "output_type": "stream",
          "text": [
            "請輸入球員身高(公尺):2.16\n",
            "請輸入球員體重(公斤):125\n",
            "26.791838134430726\n",
            "Overweight\n"
          ],
          "name": "stdout"
        }
      ]
    }
  ]
}